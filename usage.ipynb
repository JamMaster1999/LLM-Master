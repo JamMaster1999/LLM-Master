{
 "cells": [
  {
   "cell_type": "code",
   "execution_count": 1,
   "metadata": {},
   "outputs": [],
   "source": [
    "import os \n",
    "from dotenv import load_dotenv\n",
    "load_dotenv()\n",
    "import sys\n",
    "import os\n",
    "sys.path.insert(0, os.path.abspath('..'))"
   ]
  },
  {
   "cell_type": "code",
   "execution_count": 2,
   "metadata": {},
   "outputs": [
    {
     "name": "stderr",
     "output_type": "stream",
     "text": [
      "/Users/sina/Desktop/Uflo Platform/uflo-AI-server/ai-server/lib/python3.11/site-packages/tqdm/auto.py:21: TqdmWarning: IProgress not found. Please update jupyter and ipywidgets. See https://ipywidgets.readthedocs.io/en/stable/user_install.html\n",
      "  from .autonotebook import tqdm as notebook_tqdm\n",
      "INFO:llm_master.response_synthesizer:Initialized QueryLLM handler with rate limiters\n"
     ]
    }
   ],
   "source": [
    "import time, base64, json, requests, asyncio\n",
    "import nest_asyncio\n",
    "nest_asyncio.apply()\n",
    "from typing import List, Dict, Union, Any \n",
    "\n",
    "# Import our providers\n",
    "from llm_master import QueryLLM, LLMConfig\n",
    "config = LLMConfig.from_env()\n",
    "llm = QueryLLM(config)\n"
   ]
  },
  {
   "cell_type": "code",
   "execution_count": null,
   "metadata": {},
   "outputs": [],
   "source": [
    "\n",
    "\n",
    "async def run_stream():\n",
    "    messages = [\n",
    "        {\n",
    "            \"role\": \"user\", \n",
    "            \"content\": \"Tell me a story about a cat\",\n",
    "        },\n",
    "    ]\n",
    "\n",
    "    try:\n",
    "        response_generator = await llm.query(\n",
    "            # model_name=\"o3-mini\",\n",
    "            # reasoning_effort=\"low\",\n",
    "            model_name=\"gemini-2.0-flash\",\n",
    "            # model_name=\"accounts/fireworks/models/deepseek-r1\",\n",
    "            messages=messages,\n",
    "            stream=True,\n",
    "            fallback_provider=\"openai\",\n",
    "            fallback_model=\"gpt-4o\",\n",
    "            moderation=False\n",
    "        )\n",
    "        \n",
    "        async for chunk in response_generator:\n",
    "            print(chunk, end=\"\", flush=True)\n",
    "            \n",
    "    except Exception as e:\n",
    "        print(f\"Error: {str(e)}\")\n",
    "\n",
    "# This line is key in Jupyter\n",
    "await run_stream()  # Don't use asyncio.run() here"
   ]
  },
  {
   "cell_type": "code",
   "execution_count": null,
   "metadata": {},
   "outputs": [],
   "source": [
    "\n",
    "\n",
    "async def run_query():\n",
    "    messages = [\n",
    "        {\n",
    "            \"role\": \"user\", \n",
    "            \"content\": \"Explain quantum computing in simple terms\",\n",
    "        },\n",
    "    ]\n",
    "\n",
    "    try:\n",
    "        # With stream=False, you get a LLMResponse object directly\n",
    "        response = await llm.query(\n",
    "            # model_name=\"accounts/fireworks/models/deepseek-r1\",\n",
    "            model_name=\"gemini-2.0-flash\",\n",
    "            # reasoning_effort=\"low\",\n",
    "            messages=messages,\n",
    "            stream=False,  # Set to False for non-streaming\n",
    "            # temperature=0.5,\n",
    "            fallback_provider=\"openai\",\n",
    "            fallback_model=\"gpt-4o\",\n",
    "            moderation=False\n",
    "        )\n",
    "        \n",
    "        # Print the full response content\n",
    "        print(response.content)\n",
    "        \n",
    "        # You can also access other metadata\n",
    "        print(\"\\n--- Response Metadata ---\")\n",
    "        print(f\"Model: {response.model_name}\")\n",
    "        print(f\"Input tokens: {response.usage.input_tokens}\")\n",
    "        print(f\"Output tokens: {response.usage.output_tokens}\")\n",
    "        print(f\"Cost: ${response.cost:.6f}\")\n",
    "        print(f\"Latency: {response.latency:.2f} seconds\")\n",
    "            \n",
    "    except Exception as e:\n",
    "        print(f\"Error: {str(e)}\")\n",
    "        import traceback\n",
    "        traceback.print_exc()\n",
    "\n",
    "# Run the async function with await\n",
    "await run_query()"
   ]
  },
  {
   "cell_type": "code",
   "execution_count": null,
   "metadata": {},
   "outputs": [],
   "source": [
    "\n",
    "# Using messages format\n",
    "response1 = await llm.query(\n",
    "    model_name=\"recraftv3\",\n",
    "    messages=[{\"role\": \"user\", \"content\": \"race car on a track\"}],\n",
    "    style=\"digital_illustration\"\n",
    ")\n",
    "\n",
    "\n",
    "print(f\"Image URL: {response1.content}\")"
   ]
  },
  {
   "cell_type": "code",
   "execution_count": null,
   "metadata": {},
   "outputs": [],
   "source": [
    "# Define the prompt\n",
    "prompt = \"A cat on its back legs running like a human is holding a big silver fish with its arms. The cat is running away from the shop owner and has a panicked look on his face. The scene is situated in a crowded market.\"\n",
    "\n",
    "try:\n",
    "    # Generate the image\n",
    "    response = await llm.query(\n",
    "        model_name=\"flux-pro-1.1\",\n",
    "        messages=[{\"role\": \"user\", \"content\": prompt}],\n",
    "        width=1024,  # Optional: specify image width\n",
    "        height=768,   # Optional: specify image height\n",
    "        prompt_upsampling=True, #If active, automatically modifies the prompt for more creative generation.\n",
    "        guidance=3 #High guidance scales improve prompt adherence at the cost of reduced realism.\n",
    "    )\n",
    "    \n",
    "    # Print the result (which is the image URL)\n",
    "    print(f\"Image generation successful! URL: {response.content}\")\n",
    "    \n",
    "except Exception as e:\n",
    "    print(f\"Error generating image: {str(e)}\")"
   ]
  },
  {
   "cell_type": "code",
   "execution_count": 4,
   "metadata": {},
   "outputs": [
    {
     "name": "stdout",
     "output_type": "stream",
     "text": [
      "Text response:\n",
      "None\n",
      "\n",
      "Audio saved to 'dog_response.wav'\n"
     ]
    }
   ],
   "source": [
    "\n",
    "async def run_query():\n",
    "    messages = [\n",
    "        {\n",
    "            \"role\": \"user\", \n",
    "            \"content\": \"Explain quantum computing in simple terms\",\n",
    "        },\n",
    "    ]\n",
    "\n",
    "    try:\n",
    "        # With stream=False, you get a LLMResponse object directly\n",
    "        response = await llm.query(\n",
    "            model_name=\"gpt-4o-mini-audio-preview\",\n",
    "            messages=messages,\n",
    "            stream=False,\n",
    "            modality=[\"text\", \"audio\"],\n",
    "            audio={\"voice\": \"ash\", \"format\": \"wav\"}\n",
    "        )\n",
    "        \n",
    "         # Print the text response\n",
    "        print(\"Text response:\")\n",
    "        print(response.content)\n",
    "        \n",
    "        # Save the audio to a file if available\n",
    "        if response.audio_data:\n",
    "            wav_bytes = base64.b64decode(response.audio_data)\n",
    "            output_file = \"dog_response.wav\"\n",
    "            with open(output_file, \"wb\") as f:\n",
    "                f.write(wav_bytes)\n",
    "            print(f\"\\nAudio saved to '{output_file}'\")\n",
    "        else:\n",
    "            print(\"\\nNo audio data received in the response\")\n",
    "            \n",
    "    except Exception as e:\n",
    "        print(f\"Error: {str(e)}\")\n",
    "        import traceback\n",
    "        traceback.print_exc()\n",
    "\n",
    "# Run the async function with await\n",
    "await run_query()"
   ]
  }
 ],
 "metadata": {
  "kernelspec": {
   "display_name": "Python 3",
   "language": "python",
   "name": "python3"
  },
  "language_info": {
   "codemirror_mode": {
    "name": "ipython",
    "version": 3
   },
   "file_extension": ".py",
   "mimetype": "text/x-python",
   "name": "python",
   "nbconvert_exporter": "python",
   "pygments_lexer": "ipython3",
   "version": "3.11.11"
  }
 },
 "nbformat": 4,
 "nbformat_minor": 2
}
